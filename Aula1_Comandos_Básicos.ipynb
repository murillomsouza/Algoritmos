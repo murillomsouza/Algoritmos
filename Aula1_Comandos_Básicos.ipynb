{
  "cells": [
    {
      "cell_type": "markdown",
      "metadata": {
        "id": "view-in-github",
        "colab_type": "text"
      },
      "source": [
        "<a href=\"https://colab.research.google.com/github/murillomsouza/Algoritmos/blob/main/Aula1_Comandos_B%C3%A1sicos.ipynb\" target=\"_parent\"><img src=\"https://colab.research.google.com/assets/colab-badge.svg\" alt=\"Open In Colab\"/></a>"
      ]
    },
    {
      "cell_type": "markdown",
      "metadata": {
        "id": "473lTt1MA-Xo"
      },
      "source": [
        "# **Algoritmos - Comandos Básicos de Entrada, Saída e Operadores Aritméticos**"
      ]
    },
    {
      "cell_type": "markdown",
      "metadata": {
        "id": "P8ijhSt0BCSv"
      },
      "source": [
        "**🎯 Objetivo da Aula**\n",
        "\n",
        "Nesta aula, vamos aprender:\n",
        "\n",
        "✅ Como funciona a entrada e saída de dados em Python.\n",
        "\n",
        "✅ Como utilizar o input() para receber dados do usuário.\n",
        "\n",
        "✅ Como exibir informações na tela com print().\n",
        "\n",
        "✅ O que são operadores aritméticos e como utilizá-los.\n"
      ]
    },
    {
      "cell_type": "markdown",
      "metadata": {
        "id": "yRDd5Zy1BI0F"
      },
      "source": [
        "# 1️⃣ Entrada e Saída de Dados\n",
        "\n",
        "**🔹 Saída de Dados: print()**\n",
        "\n",
        "A função print() é utilizada para exibir informações na tela.\n",
        "\n",
        "📌 Exemplo Simples:"
      ]
    },
    {
      "cell_type": "code",
      "execution_count": null,
      "metadata": {
        "colab": {
          "base_uri": "https://localhost:8080/"
        },
        "id": "Y9Ohby_FE0_Z",
        "outputId": "ed216c9c-1eb8-48ed-a16d-fa14ba61ffd6"
      },
      "outputs": [
        {
          "name": "stdout",
          "output_type": "stream",
          "text": [
            "Olá, mundo!\n",
            "Seja bem-vindo ao curso de Algoritmos!\n"
          ]
        }
      ],
      "source": [
        "print(\"Olá, mundo!\")\n",
        "print(\"Seja bem-vindo ao curso de Algoritmos!\")\n"
      ]
    },
    {
      "cell_type": "markdown",
      "metadata": {
        "id": "QhRv4cVcE9Lh"
      },
      "source": [
        "**🔹 Exibindo Variáveis no print()**"
      ]
    },
    {
      "cell_type": "code",
      "execution_count": null,
      "metadata": {
        "colab": {
          "base_uri": "https://localhost:8080/"
        },
        "id": "Gjj0Ib2_FCHv",
        "outputId": "dd0c60bd-e62c-4f78-a3b1-a5baad4e4136"
      },
      "outputs": [
        {
          "name": "stdout",
          "output_type": "stream",
          "text": [
            "Nome: João\n",
            "Idade: 25\n"
          ]
        }
      ],
      "source": [
        "nome = \"João\"\n",
        "idade = 25\n",
        "print(\"Nome:\", nome)\n",
        "print(\"Idade:\", idade)\n"
      ]
    },
    {
      "cell_type": "markdown",
      "metadata": {
        "id": "dfrc-hE6FPUV"
      },
      "source": [
        "**🔹 Exibindo com f-strings (Interpolação de Variáveis)**"
      ]
    },
    {
      "cell_type": "code",
      "execution_count": null,
      "metadata": {
        "colab": {
          "base_uri": "https://localhost:8080/"
        },
        "id": "gd4rOPQlFSa-",
        "outputId": "52a107e8-2800-43a0-fd71-2fce57edd14c"
      },
      "outputs": [
        {
          "name": "stdout",
          "output_type": "stream",
          "text": [
            "Olá, Maria! Você tem 22 anos.\n"
          ]
        }
      ],
      "source": [
        "nome = \"Maria\"\n",
        "idade = 22\n",
        "print(f\"Olá, {nome}! Você tem {idade} anos.\")\n"
      ]
    },
    {
      "cell_type": "markdown",
      "metadata": {
        "id": "8mxn-kKuFbcw"
      },
      "source": [
        "**🔹 Entrada de Dados: input()**\n",
        "\n",
        "A função input() permite que o usuário digite um valor no programa.\n",
        "\n",
        "💡 Todos os valores recebidos pelo input() são do tipo string.\n",
        "\n",
        "📌 Exemplo Simples\n"
      ]
    },
    {
      "cell_type": "code",
      "execution_count": null,
      "metadata": {
        "id": "eLH4RzSNFp_w"
      },
      "outputs": [],
      "source": [
        "nome = input(\"Digite seu nome: \")\n",
        "print(f\"Bem-vindo, {nome}!\")\n"
      ]
    },
    {
      "cell_type": "markdown",
      "metadata": {
        "id": "Qp0Y6kl6FyM2"
      },
      "source": [
        "**🔹 Convertendo Tipos de Dados (int e float)**\n",
        "\n",
        "Se quisermos receber um número, precisamos converter o valor digitado:"
      ]
    },
    {
      "cell_type": "code",
      "execution_count": null,
      "metadata": {
        "colab": {
          "base_uri": "https://localhost:8080/"
        },
        "id": "4umjz_qyF2CH",
        "outputId": "03386628-55f2-4d45-b6f0-e3982ab4052b"
      },
      "outputs": [
        {
          "name": "stdout",
          "output_type": "stream",
          "text": [
            "Digite sua idade: 4\n",
            "Digite sua altura: 2.45\n",
            "Você tem 4 anos e 2.45 metros de altura.\n"
          ]
        }
      ],
      "source": [
        "idade = int(input(\"Digite sua idade: \"))\n",
        "altura = float(input(\"Digite sua altura: \"))\n",
        "print(f\"Você tem {idade} anos e {altura} metros de altura.\")\n"
      ]
    },
    {
      "cell_type": "markdown",
      "metadata": {
        "id": "xkE1R0yQGBQU"
      },
      "source": [
        "# **2️⃣ Operadores Aritméticos**\n",
        "\n",
        "![operadores aritmeticos.png](data:image/png;base64,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)\n",
        "Os operadores aritméticos realizam operações matemáticas básicas."
      ]
    },
    {
      "cell_type": "markdown",
      "metadata": {
        "id": "Wql5hRsRGLbE"
      },
      "source": [
        "# **📌 Exemplos Práticos**\n",
        "\n",
        "**🔹 Calculadora Simples**"
      ]
    },
    {
      "cell_type": "code",
      "execution_count": null,
      "metadata": {
        "id": "dA6t6jhgGO8f"
      },
      "outputs": [],
      "source": [
        "num1 = float(input(\"Digite o primeiro número: \"))\n",
        "num2 = float(input(\"Digite o segundo número: \"))\n",
        "\n",
        "soma = num1 + num2\n",
        "subtracao = num1 - num2\n",
        "multiplicacao = num1 * num2\n",
        "divisao = num1 / num2\n",
        "\n",
        "print(f\"Soma: {soma}\")\n",
        "print(f\"Subtração: {subtracao}\")\n",
        "print(f\"Multiplicação: {multiplicacao}\")\n",
        "print(f\"Divisão: {divisao}\")\n"
      ]
    },
    {
      "cell_type": "markdown",
      "metadata": {
        "id": "jwRcmy8tGZm8"
      },
      "source": [
        "# **3️⃣ Conclusão**\n",
        "\n",
        "✅ print() exibe informações na tela.\n",
        "\n",
        "✅ input() recebe dados do usuário.\n",
        "\n",
        "✅ Devemos converter os dados (int(), float()) quando necessário.\n",
        "\n",
        "✅ Operadores aritméticos realizam cálculos matemáticos.\n",
        "\n",
        "**🚀 Agora é sua vez! Pratique os exercícios e crie seus próprios exemplos! 😃**\n"
      ]
    },
    {
      "cell_type": "markdown",
      "metadata": {
        "id": "DTUv9YCMGiqM"
      },
      "source": [
        "# Exercicios Práticos\n",
        "\n",
        "\n",
        "**1. Salario**\n",
        "\n",
        "Crie um programa que leia o nome e o salário de um funcionário, mostrando no\n",
        "final uma mensagem.\n",
        "\n",
        "**2. Media**\n",
        "\n",
        "Faça um programa que leia as duas notas de um aluno em uma matéria e mostre\n",
        "na tela a sua média na disciplina.\n",
        "\n",
        "**3. Operadores**\n",
        "\n",
        "Crie um algoritmo que leia um número real e mostre na tela o seu dobro e a\n",
        "sua terça parte.\n",
        "\n",
        "**4. Cálculo de área de um quadrado**\n",
        "\n",
        "A = b.h\n",
        "\n",
        "**5. Peça o lado de um quadrado e mostre sua área.**\n",
        "\n",
        "Área = lado²\n",
        "\n",
        "**6. Cálculo de área de um triângulo**\n",
        "\n",
        "Área = (base × altura) / 2\n",
        "\n",
        "**7. Cálculo de área de um círculo:**\n",
        "\n",
        " Área = π × raio²\n",
        "\n",
        "**8. Construção**\n",
        "\n",
        "Faça um algoritmo que leia a largura e altura de uma parede, calcule e\n",
        "mostre a área a ser pintada e a quantidade de tinta necessária para o serviço,\n",
        "sabendo que cada litro de tinta pinta uma área de 2metros quadrados.\n",
        "\n",
        "\n",
        "**9. IMC (Índice de Massa Corporal)**\n",
        "\n",
        " IMC = peso / (altura ** 2)\n",
        "\n",
        "\n",
        "**10. Múltiplos**\n",
        "\n",
        " Elaborar um algoritmo que lê 2 valores a e b e os escreve com a mensagem: \"São múltiplos\" ou \"Não são múltiplos\".\n",
        "\n",
        "**11. Desconto em compras**\n",
        "\n",
        " Peça o valor de um produto e aplique um desconto de 10%.\n",
        "\n",
        "**12. Aumento salarial**\n",
        "\n",
        "Peça o salário de um funcionário e aumente em 15%.\n",
        "\n",
        "**13. Cálculo do tempo de viagem**\n",
        "\n",
        "Peça a distância a ser percorrida e a velocidade média, depois calcule o tempo da viagem\n",
        "\n",
        "*Tempo = distância / velocidade*\n",
        "\n",
        "**14. Conta de luz**\n",
        "\n",
        "Peça a quantidade de kWh consumidos e o valor por kWh, depois calcule o valor da conta de energia.\n",
        "\n",
        "**15. Conversão de dinheiro**\n",
        "\n",
        "Peça um valor em reais e converta para dólares. (Considere o valor do dólar como R$ 5,00)\n",
        "\n",
        "**16. Salário**\n",
        "\n",
        "Crie um programa que leia o número de dias trabalhados em um mês e mostre o\n",
        "salário de um funcionário, sabendo que ele trabalha 8 horas por dia e ganha R\\$25,00 por hora trabalhada.\n",
        "\n",
        "**17. Locadora**\n",
        "\n",
        "A locadora de carros precisa da sua ajuda para cobrar seus serviços. Escreva\n",
        "um programa que pergunte a quantidade de Km percorridos por um carro alugado e a\n",
        "quantidade de dias pelos quais ele foi alugado. Calcule o preço total a pagar,\n",
        "sabendo que o carro custa R\\$ 90,00 por dia e R$ 0,20 por Km rodado.\n",
        "\n",
        "**18. Custo de imposto**\n",
        "\n",
        " O custo ao consumidor de um carro novo é a soma do custo de fábrica com a percentagem do distribuidor e dos impostos (aplicados ao custo de fábrica). Supondo que a percentagem do distribuidor seja de 28% e os impostos de 45%, escrever um algoritmo que leia o custo de fábrica de um carro e escreva o custo ao consumidor.\n",
        "\n",
        "\n",
        "\n",
        "\n",
        "\n",
        "\n",
        "\n"
      ]
    },
    {
      "cell_type": "code",
      "execution_count": null,
      "metadata": {
        "colab": {
          "base_uri": "https://localhost:8080/"
        },
        "id": "TLXdhk-zBgdS",
        "outputId": "910cf0f6-66fa-46e9-9f05-367e57a9cb60"
      },
      "outputs": [
        {
          "name": "stdout",
          "output_type": "stream",
          "text": [
            "Digite o nome do funcionário: \n",
            "Digite o salário em Reais: \n",
            "O funcionário Murillo, recebe R$3000.0\n"
          ]
        }
      ],
      "source": [
        "\"\"\"Exercicio 1\"\"\"\n",
        "name = input('Digite o nome do funcionário: '))\n",
        "salario =  float(input('Digite o salário em Reais: ')))\n",
        "print(f'O funcionário {name}, recebe R${salario}')\n"
      ]
    },
    {
      "cell_type": "code",
      "execution_count": null,
      "metadata": {
        "colab": {
          "base_uri": "https://localhost:8080/"
        },
        "id": "EJDH3z6GCpkG",
        "outputId": "6fe89092-7b4a-4eac-f403-1551a60d2b3a"
      },
      "outputs": [
        {
          "name": "stdout",
          "output_type": "stream",
          "text": [
            "Digite a primeira nota: \n",
            "None8\n",
            "Digite e segunda nota: \n",
            "None4\n",
            "A média desse aluno é: 6.0\n"
          ]
        }
      ],
      "source": [
        "\"\"\"Exercicio 2\"\"\"\n",
        "nt1 = float(input('Digite a primeira nota: ')))\n",
        "nt2 = float(input('Digite e segunda nota: ')))\n",
        "media = (nt1 + nt2)/2\n",
        "print(f'A média desse aluno é: {media}')\n"
      ]
    },
    {
      "cell_type": "code",
      "execution_count": null,
      "metadata": {
        "id": "S19qTLFdDbac"
      },
      "outputs": [],
      "source": [
        "\"\"\"Excercicio 3\"\"\"\n",
        "number = float(input('Digite o número'))\n",
        "double_number = number*2\n",
        "trdnumber = number/3\n",
        "print(f'O dobre desse número é {double_number}, e sua terça parte é {trdnumber}')"
      ]
    },
    {
      "cell_type": "code",
      "execution_count": null,
      "metadata": {
        "id": "rzi4SM0CK8Is"
      },
      "outputs": [],
      "source": [
        "\"\"\"Exercicio 4\"\"\"\n",
        "base = float(input('Digite o tamanho da base(m²):'))\n",
        "area = base*base\n",
        "print(f'A area desse quadrade é {area}m².')"
      ]
    },
    {
      "cell_type": "code",
      "execution_count": null,
      "metadata": {
        "id": "cSjf2IjqK8Is"
      },
      "outputs": [],
      "source": [
        "\"\"\"Exercicio 5\"\"\"\n",
        "lado = float(input('Digite um dos lados do quadrado:'))\n",
        "area = lado**2\n",
        "print(f'A area do quadrado é {area}.')"
      ]
    },
    {
      "cell_type": "code",
      "execution_count": null,
      "metadata": {
        "id": "blFprN3gK8Is"
      },
      "outputs": [],
      "source": [
        "\"\"\"Exercicio 6\"\"\"\n",
        "base = float(input('Digite a base do triangulo:'))\n",
        "altura = float(input('Digite e altura do triangulo:'))\n",
        "areatri = (base*altura)/2\n",
        "print(f'A area do triangulo é {areatri}')\n"
      ]
    },
    {
      "cell_type": "code",
      "execution_count": null,
      "metadata": {
        "id": "wLWnitudK8Is"
      },
      "outputs": [],
      "source": [
        "\"\"\"Exercicio 7\"\"\"\n",
        "raio = float(input('Digite o raio do circulo:'))\n",
        "area = 3.14*(raio**2)\n",
        "print(f'A area do ciruclo é {area}.')\n",
        "\n"
      ]
    },
    {
      "cell_type": "code",
      "execution_count": null,
      "metadata": {
        "id": "A0m5S1AMK8Is"
      },
      "outputs": [],
      "source": [
        "\"\"\"Exercicio 8\"\"\"\n",
        "altura = float(input('Digite a altura da parade: '))\n",
        "largura = float(input('Digite a largura da parede: '))\n",
        "area = altura*largura\n",
        "tint = area/2\n",
        "print(f'Serão necessários {tint} litros de tinta para esta parede')\n"
      ]
    },
    {
      "cell_type": "code",
      "execution_count": null,
      "metadata": {
        "id": "JNa2RfAsK8It"
      },
      "outputs": [],
      "source": [
        "\"\"\"Exercicio 9\"\"\"\n",
        "altura = float(input('Digite sua altura em cm: '))\n",
        "peso = float(input('Digite seu peso: '))\n",
        "imc = peso/(altura**2)\n",
        "print(f'Seu o IMC é {imc}.')\n"
      ]
    },
    {
      "cell_type": "code",
      "execution_count": 11,
      "metadata": {
        "colab": {
          "base_uri": "https://localhost:8080/"
        },
        "id": "y3jODEf7K8It",
        "outputId": "ee055db4-762c-4aa9-80f1-7c7c5e4bb4d7"
      },
      "outputs": [
        {
          "output_type": "stream",
          "name": "stdout",
          "text": [
            "Digite o primeiro número: 7\n",
            "Digite o segundo número: 8\n",
            "Não são multiplos\n"
          ]
        }
      ],
      "source": [
        "\"\"\"Exercicio 10\"\"\"\n",
        "number1 = float(input('Digite o primeiro número: '))\n",
        "number2 = float(input('Digite o segundo número: '))\n",
        "if number1 % number2 == 0:\n",
        "    print('São multiplos')\n",
        "elif number2 % number1 == 0:\n",
        "    print('São multiplos')\n",
        "else:\n",
        "    print('Não são multiplos')"
      ]
    },
    {
      "cell_type": "code",
      "execution_count": null,
      "metadata": {
        "id": "kbiimb0pK8It",
        "outputId": "2c326aa0-eea5-4fb7-cd8e-f436cfd37a05"
      },
      "outputs": [
        {
          "name": "stdout",
          "output_type": "stream",
          "text": [
            "Com o desconto esse produto fica R$270.0\n"
          ]
        }
      ],
      "source": [
        "\"\"\"Exercicio 11\"\"\"\n",
        "valor = float(input('Digite o valor do produto em Reais: '))\n",
        "desc = valor - (valor * 10 / 100)\n",
        "print(f'Com o desconto esse produto fica R${desc}')"
      ]
    },
    {
      "cell_type": "code",
      "execution_count": null,
      "metadata": {
        "id": "BlMDrH5jK8It"
      },
      "outputs": [],
      "source": [
        "\"\"\"Exercicio 12\"\"\"\n",
        "salario = float(input('Digite o salario em Reais: '))\n",
        "nvsalario = salario + (salario * 15 / 100)\n",
        "print(f'O salario desse colaborador com um aumento de 15% é R${nvsalario}')"
      ]
    },
    {
      "cell_type": "code",
      "execution_count": null,
      "metadata": {
        "id": "MSMgCHQ-K8It"
      },
      "outputs": [],
      "source": [
        "\"\"\"Exercicio 13\"\"\"\n",
        "distancia = float(input('Digite a distancia a ser percorrida (em Km): '))\n",
        "vlcmedia = float(input('Digite a velocidade média (em Km/h): '))\n",
        "tempo = distancia/vlcmedia\n",
        "print(f'A viagem irá demorar {tempo} horas')\n"
      ]
    },
    {
      "cell_type": "code",
      "execution_count": null,
      "metadata": {
        "id": "aM-ndJmdK8It"
      },
      "outputs": [],
      "source": [
        "\"\"\"Exercicio 14\"\"\"\n",
        "consumo = float(input('Digite a quantidades de kV/h foram consumidos:'))\n",
        "valor = float(input('Digite o valor do kW/h (em reais): '))\n",
        "conta = consumo*valor\n",
        "print(f'Sua conta será no valor de R${conta}.')\n"
      ]
    },
    {
      "cell_type": "code",
      "execution_count": null,
      "metadata": {
        "id": "lTjS6ceEK8It"
      },
      "outputs": [],
      "source": [
        "\"\"\"Exercicio 15\"\"\"\n",
        "reais = float(input('Digite o valor a ser convertido (em reais): '))\n",
        "#considerando dolar a R$5,00\n",
        "conversao = reais/5.00\n",
        "print(f'Você teria U${conversao:.2f}, após a conversão')\n"
      ]
    },
    {
      "cell_type": "code",
      "execution_count": null,
      "metadata": {
        "id": "pbVxnxfrK8Iu"
      },
      "outputs": [],
      "source": [
        "\"\"\"Exercicio 16\"\"\"\n",
        "workdays = float(input('Digite a quantidade de dias trabalhados:'))\n",
        "salario = workdays * (25 * 8)\n",
        "print(f'Esse funcioário tem de receber R${salario}')\n"
      ]
    },
    {
      "cell_type": "code",
      "execution_count": null,
      "metadata": {
        "id": "OyYCE4TaK8Iu"
      },
      "outputs": [],
      "source": [
        "\"\"\"Exercicio 17\"\"\"\n",
        "dias = int(input('Digite a quantidade de dias que o carro foi alugado: '))\n",
        "kmr = float(input('Digite quantos Km esse carro andou durante esse período: '))\n",
        "conta = (dias * 90) + (kmr * 0.20)\n",
        "print(f'O preço total desse aluguel ficou em R${conta}')\n"
      ]
    },
    {
      "cell_type": "code",
      "execution_count": null,
      "metadata": {
        "id": "AOl7NAqWK8Iu"
      },
      "outputs": [],
      "source": [
        "\"\"\"Exercicio 18\"\"\"\n",
        "fabrica = float(input('Digite o custo de fábrica: '))\n",
        "total = (fabrica * 28 / 100) * 45 / 100\n",
        "print(f'O custo total desse veículo é de R${total}')\n"
      ]
    }
  ],
  "metadata": {
    "colab": {
      "provenance": [],
      "include_colab_link": true
    },
    "kernelspec": {
      "display_name": "Python 3",
      "name": "python3"
    },
    "language_info": {
      "codemirror_mode": {
        "name": "ipython",
        "version": 3
      },
      "file_extension": ".py",
      "mimetype": "text/x-python",
      "name": "python",
      "nbconvert_exporter": "python",
      "pygments_lexer": "ipython3",
      "version": "3.13.0"
    }
  },
  "nbformat": 4,
  "nbformat_minor": 0
}